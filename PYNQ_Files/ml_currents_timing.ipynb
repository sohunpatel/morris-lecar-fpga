{
 "cells": [
  {
   "cell_type": "markdown",
   "id": "d4e0b2f5",
   "metadata": {},
   "source": [
    "### Required libraries"
   ]
  },
  {
   "cell_type": "code",
   "execution_count": 1,
   "id": "f200ed15",
   "metadata": {},
   "outputs": [
    {
     "data": {
      "application/javascript": [
       "\n",
       "try {\n",
       "require(['notebook/js/codecell'], function(codecell) {\n",
       "  codecell.CodeCell.options_default.highlight_modes[\n",
       "      'magic_text/x-csrc'] = {'reg':[/^%%microblaze/]};\n",
       "  Jupyter.notebook.events.one('kernel_ready.Kernel', function(){\n",
       "      Jupyter.notebook.get_cells().map(function(cell){\n",
       "          if (cell.cell_type == 'code'){ cell.auto_highlight(); } }) ;\n",
       "  });\n",
       "});\n",
       "} catch (e) {};\n"
      ]
     },
     "metadata": {},
     "output_type": "display_data"
    },
    {
     "data": {
      "application/javascript": [
       "\n",
       "try {\n",
       "require(['notebook/js/codecell'], function(codecell) {\n",
       "  codecell.CodeCell.options_default.highlight_modes[\n",
       "      'magic_text/x-csrc'] = {'reg':[/^%%pybind11/]};\n",
       "  Jupyter.notebook.events.one('kernel_ready.Kernel', function(){\n",
       "      Jupyter.notebook.get_cells().map(function(cell){\n",
       "          if (cell.cell_type == 'code'){ cell.auto_highlight(); } }) ;\n",
       "  });\n",
       "});\n",
       "} catch (e) {};\n"
      ]
     },
     "metadata": {},
     "output_type": "display_data"
    }
   ],
   "source": [
    "import numpy as np\n",
    "import time\n",
    "from tqdm import tqdm\n",
    "import software as soft\n",
    "import hardware as hard"
   ]
  },
  {
   "cell_type": "code",
   "execution_count": 2,
   "id": "6b84c077",
   "metadata": {},
   "outputs": [
    {
     "name": "stderr",
     "output_type": "stream",
     "text": [
      "100%|██████████| 999/999 [03:00<00:00,  5.55it/s]\n",
      "100%|██████████| 999/999 [16:03<00:00,  1.04it/s]\n"
     ]
    }
   ],
   "source": [
    "samples = 1000\n",
    "softTiming = np.zeros(samples)\n",
    "hardTiming = np.zeros(samples)\n",
    "data_size = 1500\n",
    "for k in tqdm(range(1, samples)):\n",
    "    Iinj = 40 + 25*np.random.randn(data_size)\n",
    "    Vsoft, t = soft.sol(Iinj)\n",
    "    softTiming[k] = t\n",
    "for k in tqdm(range(1, samples)):\n",
    "    Iinj = 40 * 25*np.random.randn(data_size)\n",
    "    Vhard, t = hard.sol(Iinj)\n",
    "    hardTiming[k] = t\n",
    "softAvg = np.average(softTiming)\n",
    "hardAvg = np.average(hardTiming)"
   ]
  },
  {
   "cell_type": "code",
   "execution_count": 3,
   "id": "51a6c24f",
   "metadata": {},
   "outputs": [
    {
     "name": "stdout",
     "output_type": "stream",
     "text": [
      "Average timing for software: 0.17369498825073243\n",
      "Average timing for hardware: 0.032365545272827145\n"
     ]
    }
   ],
   "source": [
    "print(\"Average timing for software: {}\".format(softAvg))\n",
    "print(\"Average timing for hardware: {}\".format(hardAvg))"
   ]
  },
  {
   "cell_type": "code",
   "execution_count": null,
   "id": "492265be",
   "metadata": {},
   "outputs": [],
   "source": []
  }
 ],
 "metadata": {
  "kernelspec": {
   "display_name": "Python 3",
   "language": "python",
   "name": "python3"
  },
  "language_info": {
   "codemirror_mode": {
    "name": "ipython",
    "version": 3
   },
   "file_extension": ".py",
   "mimetype": "text/x-python",
   "name": "python",
   "nbconvert_exporter": "python",
   "pygments_lexer": "ipython3",
   "version": "3.8.2"
  }
 },
 "nbformat": 4,
 "nbformat_minor": 5
}
