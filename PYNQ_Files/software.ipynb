{
 "cells": [
  {
   "cell_type": "markdown",
   "metadata": {},
   "source": [
    "# Solve Morris Lecar Equations with Software"
   ]
  },
  {
   "cell_type": "markdown",
   "metadata": {},
   "source": [
    "### Equations"
   ]
  },
  {
   "cell_type": "markdown",
   "metadata": {},
   "source": [
    "$$ C\\frac{dV}{dt} = \\frac{I_{inj}}{A} - I_{leak} - I_{slow} - I_{fast} $$\n",
    "$$ I_{leak} = g_{leak}(V - E_{leak}) $$\n",
    "$$ I_{fast} = g_{fast}(V - E_{Na}) $$\n",
    "$$ m_{\\infty} = 0.5(1 + tanh(\\frac{V - \\beta_{m}}{\\gamma{m}})) $$\n",
    "$$ I_{slow} = g_{slow}w(V - E_{K}) $$\n",
    "$$ w_{\\infty} =  0.5(1 + tanh(\\frac{V - \\beta_{w}}{\\gamma{w}})) $$\n",
    "$$ \\tau_{\\infty} = \\frac{1}{cosh(0.5\\frac{V - \\beta_{w}}{\\gamma_{w}})} $$\n",
    "$$ \\frac{dw}{dt} = \\phi\\frac{w_{\\infty} - w}{\\tau_{\\infty}} $$\n",
    "$$ V = V + dt\\frac{dV}{dt} $$\n",
    "$$ w = w + dt\\frac{dw}{dt} $$"
   ]
  },
  {
   "cell_type": "markdown",
   "metadata": {},
   "source": [
    "### Import required libraries"
   ]
  },
  {
   "cell_type": "code",
   "execution_count": 1,
   "metadata": {},
   "outputs": [
    {
     "data": {
      "application/javascript": [
       "\n",
       "try {\n",
       "require(['notebook/js/codecell'], function(codecell) {\n",
       "  codecell.CodeCell.options_default.highlight_modes[\n",
       "      'magic_text/x-csrc'] = {'reg':[/^%%microblaze/]};\n",
       "  Jupyter.notebook.events.one('kernel_ready.Kernel', function(){\n",
       "      Jupyter.notebook.get_cells().map(function(cell){\n",
       "          if (cell.cell_type == 'code'){ cell.auto_highlight(); } }) ;\n",
       "  });\n",
       "});\n",
       "} catch (e) {};\n"
      ]
     },
     "metadata": {},
     "output_type": "display_data"
    },
    {
     "data": {
      "application/javascript": [
       "\n",
       "try {\n",
       "require(['notebook/js/codecell'], function(codecell) {\n",
       "  codecell.CodeCell.options_default.highlight_modes[\n",
       "      'magic_text/x-csrc'] = {'reg':[/^%%pybind11/]};\n",
       "  Jupyter.notebook.events.one('kernel_ready.Kernel', function(){\n",
       "      Jupyter.notebook.get_cells().map(function(cell){\n",
       "          if (cell.cell_type == 'code'){ cell.auto_highlight(); } }) ;\n",
       "  });\n",
       "});\n",
       "} catch (e) {};\n"
      ]
     },
     "metadata": {},
     "output_type": "display_data"
    }
   ],
   "source": [
    "import pynq\n",
    "import numpy as np\n",
    "import Currents as I"
   ]
  },
  {
   "cell_type": "markdown",
   "metadata": {},
   "source": [
    "### Define Parameters"
   ]
  },
  {
   "cell_type": "code",
   "execution_count": 2,
   "metadata": {},
   "outputs": [],
   "source": [
    "A = 4*5^2\n",
    "C = 2\n",
    "ELeak = -70\n",
    "EK = -100\n",
    "ENa = -50\n",
    "gFast = 20\n",
    "gLeak = 2\n",
    "gSlow = 20\n",
    "betaM = -1.2\n",
    "betaW = 0\n",
    "gammaM = 18\n",
    "gammaW = 10\n",
    "phi = 0.15\n",
    "dt = 0.1"
   ]
  },
  {
   "cell_type": "markdown",
   "metadata": {},
   "source": [
    "### Define variables"
   ]
  },
  {
   "cell_type": "markdown",
   "metadata": {},
   "source": [
    "Define the timeseries for the injected current where the noise is 25 mA around 40 mA. Also, define empty timeseries for the membrane potential and the slow current state.\n",
    "\n",
    "The initial conditions are V = -70 and W = 0.000025."
   ]
  },
  {
   "cell_type": "code",
   "execution_count": 3,
   "metadata": {},
   "outputs": [],
   "source": [
    "Iinj = 40 + 25*np.random.randn(15000)\n",
    "V = np.zeros(len(Iinj))\n",
    "W = np.zeros(len(Iinj))\n",
    "\n",
    "V[0] = -70\n",
    "W[0] = 0.000025\n",
    "\n",
    "IL = np.zeros(len(Iinj))\n",
    "IFast = np.zeros(len(Iinj))\n",
    "ISlow = np.zeros(len(Iinj))"
   ]
  },
  {
   "cell_type": "markdown",
   "metadata": {},
   "source": [
    "### Find solution"
   ]
  },
  {
   "cell_type": "code",
   "execution_count": 4,
   "metadata": {},
   "outputs": [],
   "source": [
    "i = 2\n",
    "while i < len(Iinj):\n",
    "    IL[i] = I.leakage(V[i-1], gLeak, ELeak)\n",
    "    IFast[i] = I.fast(V[i-1], gFast, ENa, betaM, gammaM)\n",
    "    ISlow[i], wInf, tau_w = I.slow(V[i-1], W[i-1], gSlow, EK, betaW, gammaW)\n",
    "    \n",
    "    dwdt = phi*(wInf - W[i-1]) / tau_w\n",
    "    dvdt = (Iinj[i] - IL[i] - IFast[i] - ISlow[i]) / C\n",
    "    \n",
    "    W[i] = W[i-1] + dwdt*dt\n",
    "    V[i] = V[i-1] + dvdt*dt\n",
    "    \n",
    "    i = i + 1"
   ]
  },
  {
   "cell_type": "markdown",
   "metadata": {},
   "source": [
    "### Results"
   ]
  },
  {
   "cell_type": "code",
   "execution_count": 5,
   "metadata": {},
   "outputs": [
    {
     "data": {
      "image/png": "[encoded data removed]",
      "text/plain": [
       "<Figure size 432x288 with 1 Axes>"
      ]
     },
     "metadata": {
      "needs_background": "light"
     },
     "output_type": "display_data"
    }
   ],
   "source": [
    "%matplotlib inline\n",
    "import matplotlib.pyplot as plt\n",
    "from ipywidgets import *\n",
    "\n",
    "plt.plot(V)\n",
    "plt.xlabel(\"Time [ms]\")\n",
    "plt.ylabel(\"Membrane Potential [mV]\")\n",
    "plt.title(\"Membrane Potential Response to 40 mA current with 25 mA noise\")\n",
    "plt.show()"
   ]
  },
  {
   "cell_type": "code",
   "execution_count": null,
   "metadata": {},
   "outputs": [],
   "source": []
  }
 ],
 "metadata": {
  "kernelspec": {
   "display_name": "Python 3",
   "language": "python",
   "name": "python3"
  },
  "language_info": {
   "codemirror_mode": {
    "name": "ipython",
    "version": 3
   },
   "file_extension": ".py",
   "mimetype": "text/x-python",
   "name": "python",
   "nbconvert_exporter": "python",
   "pygments_lexer": "ipython3",
   "version": "3.8.2"
  }
 },
 "nbformat": 4,
 "nbformat_minor": 2
}
